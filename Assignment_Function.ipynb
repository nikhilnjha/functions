{
  "nbformat": 4,
  "nbformat_minor": 0,
  "metadata": {
    "colab": {
      "provenance": []
    },
    "kernelspec": {
      "name": "python3",
      "display_name": "Python 3"
    },
    "language_info": {
      "name": "python"
    }
  },
  "cells": [
    {
      "cell_type": "markdown",
      "source": [
        "# Theory"
      ],
      "metadata": {
        "id": "GMy28Q4ujwW3"
      }
    },
    {
      "cell_type": "markdown",
      "source": [
        "Note: For each theory Question, give at least one example.\n",
        "\n",
        "1. What is the difference between a function and a method in Python?\n",
        "\n",
        "Function:\n",
        "\n",
        "- A function is a block of reusable code that performs a specific task.\n",
        "- It's defined using the def keyword.\n",
        "\n",
        "Example:\n",
        "\n",
        "    def add(x, y):  \n",
        "        return x + y\n",
        "\n",
        "    result = add(5, 3)\n",
        "    print(result)\n",
        "\n",
        "\n",
        "Method:\n",
        "\n",
        "- A method is a function that is associated with an object.\n",
        "- It's called using the dot operator (.) on the object.\n",
        "\n",
        "Example:\n",
        "\n",
        "    my_string = \"hello\"\n",
        "    uppercase_string = my_string.upper()\n",
        "    print(uppercase_string)"
      ],
      "metadata": {
        "id": "SkRQ0_Lsjzop"
      }
    },
    {
      "cell_type": "markdown",
      "source": [
        "2. Explain the concept of function arguments and parameters in Python.\n",
        "\n",
        "Parameters:\n",
        "\n",
        "- Parameters are the names listed in the function definition. They act as placeholders for the values that will be passed to the function when it's called.\n",
        "- Think of them as the \"ingredients\" a function needs to do its job.\n",
        "\n",
        "Arguments:\n",
        "\n",
        "- Arguments are the actual values provided to the function when it's called. They fill the places held by the parameters.\n",
        "- These are the specific \"quantities\" of the ingredients you give to the function.\n",
        "\n",
        "Example:\n",
        "\n",
        "    def greet(name, age):\n",
        "      print(f\"Hello, {name}! You are {age} years old.\")\n",
        "\n",
        "    greet(\"Alice\", 30)\n",
        "\n",
        "In above example:\n",
        "- name and age are parameters\n",
        "- Alice and 30 are arguments"
      ],
      "metadata": {
        "id": "q5x3FIGUtW8O"
      }
    },
    {
      "cell_type": "markdown",
      "source": [
        "3. What are the different ways to define and call a function in Python?\n",
        "\n",
        "- Defining a Function:\n",
        "\n",
        "  - Using the def keyword: This is the most common way to define a function in Python.\n",
        "\n",
        "        def greet(name):\n",
        "          print(f\"Hello, {name}!\")\n",
        "\n",
        "  - Using the lambda keyword: This creates anonymous functions (functions without a name). They are typically used for short, simple functions.\n",
        "\n",
        "        square = lambda x: x * x\n",
        "\n",
        "\n",
        "- Calling a Function:\n",
        "\n",
        "  - Directly by name:\n",
        "\n",
        "        greet(\"Alice\")\n",
        "          result = square(5)\n",
        "\n",
        "  - Using a variable: If you assigned a function to a variable (like with a lambda function), you can call it using the variable name.\n",
        "\n",
        "        result = square(5)\n",
        "\n",
        "  - Within another function: Functions can be called from within other functions.\n",
        "\n",
        "        def calculate_area(length, width):\n",
        "            return length * width\n",
        "\n",
        "        def calculate_volume(length, width, height):\n",
        "            area = calculate_area(length, width)  # Calling 'calculate_area' inside 'calculate_volume'\n",
        "            return area * height\n",
        "\n",
        "\n",
        "Functions are defined using def or lambda.\n",
        "They can be called directly by name, using a variable, or within other functions."
      ],
      "metadata": {
        "id": "IbH9zfJLuGeQ"
      }
    },
    {
      "cell_type": "markdown",
      "source": [],
      "metadata": {
        "id": "6MEQxRXav9NJ"
      }
    },
    {
      "cell_type": "markdown",
      "source": [
        "4. What is the purpose of the `return` statement in a Python function?\n",
        "\n",
        "- Sending back a value: The primary purpose of the return statement is to send a value back from a function to the place where it was called. This value can be of any data type (integer, string, list, etc.).\n",
        "\n",
        "- Ending function execution: When a return statement is encountered within a function, the function immediately stops executing, and control is returned to the caller.\n",
        "\n",
        "Example:\n",
        "\n",
        "    def add(x, y):\n",
        "      sum = x + y\n",
        "      return sum  # Returning the calculated sum\n",
        "\n",
        "    result = add(5, 3)\n",
        "    print(result)"
      ],
      "metadata": {
        "id": "DrrDyT1jvqzS"
      }
    },
    {
      "cell_type": "markdown",
      "source": [
        "5. What are iterators in Python and how do they differ from iterables?\n",
        "\n",
        "- Iterables:\n",
        "\n",
        "  -An iterable is any Python object that can be looped over using a for loop.\n",
        "  - These objects have an *iter* method that returns an iterator.\n",
        "  - Examples: lists, tuples, strings, dictionaries, sets, files.\n",
        "\n",
        "- Iterators:\n",
        "\n",
        "  - An iterator is an object that implements the iterator protocol, which consists of two methods: *iter* (returns the iterator itself) and *next* (returns the next item in the sequence).\n",
        "  - Iterators are used to retrieve items from an iterable one at a time.\n",
        "  - They maintain their internal state, remembering where they are in the sequence.\n",
        "\n",
        "- Key Differences:\n",
        "\n",
        "  - Purpose: Iterables are objects you can loop over, while iterators are objects that do the actual looping.\n",
        "  - Methods: Iterables have *iter*, while iterators have both *iter* and *next*.\n",
        "  - State: Iterators remember their position in the sequence, while iterables do not.\n",
        "\n",
        "Example:\n",
        "\n",
        "    my_list = [1, 2, 3, 4, 5]  # This is an iterable (a list)\n",
        "\n",
        "    my_iterator = iter(my_list)  # Get an iterator from the list\n",
        "\n",
        "    print(next(my_iterator))  # Output: 1\n",
        "    print(next(my_iterator))  # Output: 2\n",
        "    print(next(my_iterator))  # Output: 3"
      ],
      "metadata": {
        "id": "Kv8EkuAhwW4v"
      }
    },
    {
      "cell_type": "markdown",
      "source": [
        "6. Explain the concept of generators in Python and how they are defined.\n",
        "\n",
        "- Generators are a special type of iterator that are defined using functions.\n",
        "- Instead of returning a single value using return, generators use the yield keyword to produce a sequence of values one at a time.\n",
        "- When a generator function is called, it doesn't execute the function body immediately. Instead, it returns a generator object.\n",
        "- Each time the next() function is called on the generator object, the generator function executes until it encounters a yield statement.\n",
        "- The value yielded by the yield statement is returned by the next() call.\n",
        "- The generator function then suspends its execution, remembering its state, until the next next() call.\n",
        "\n",
        "Defining Generators:\n",
        "\n",
        "- Generators are defined using functions with the yield keyword.\n",
        "\n",
        "Example:\n",
        "\n",
        "    def my_generator(n):\n",
        "        for i in range(n):\n",
        "            yield i\n",
        "\n",
        "    gen = my_generator(3)  # Create a generator object\n",
        "\n",
        "    print(next(gen))  # Output: 0\n",
        "    print(next(gen))  # Output: 1\n",
        "    print(next(gen))  # Output: 2\n",
        "\n",
        "In above example:\n",
        "\n",
        "- my_generator is a generator function that yields numbers from 0 to n-1.\n",
        "- gen is a generator object created by calling my_generator(3).\n",
        "- Each call to next(gen) executes the generator function until it encounters a yield statement, returning the yielded value."
      ],
      "metadata": {
        "id": "ehRQkOdIxgkT"
      }
    },
    {
      "cell_type": "markdown",
      "source": [
        "7. What are the advantages of using generators over regular functions?\n",
        "\n",
        "- Memory Efficiency: Generators produce values on demand, so they don't need to store the entire sequence in memory. This is especially beneficial when dealing with large datasets or infinite sequences, as it prevents memory exhaustion.\n",
        "\n",
        "- Lazy Evaluation: Generators only generate values when needed, which can improve performance. Regular functions would generate the entire sequence even if you only need a few elements.\n",
        "\n",
        "- Readability: Generators can make code more concise and readable when dealing with sequences. By using yield statements, you can express the sequence generation logic in a more natural and sequential way."
      ],
      "metadata": {
        "id": "ijx_upyCxnRS"
      }
    },
    {
      "cell_type": "markdown",
      "source": [
        "8. What is a lambda function in Python and when is it typically used?\n",
        "\n",
        "What is a Lambda Function?\n",
        "\n",
        "- A lambda function is a small, anonymous function (a function without a name) that can have any number of arguments but can only have one expression.\n",
        "- It is defined using the lambda keyword.\n",
        "- The syntax is: lambda arguments: expression\n",
        "\n",
        "\n",
        "When is it Typically Used?\n",
        "\n",
        "- Lambda functions are typically used in situations where a small, one-time function is needed, and it's not worth defining a full function using the def keyword. They are often used as arguments to higher-order functions like map, filter, and sorted.\n",
        "\n",
        "Example:\n",
        "\n",
        "    # Using a lambda function with the `sorted` function\n",
        "    data = [(1, 5), (3, 2), (2, 8), (4, 1)]\n",
        "    sorted_data = sorted(data, key=lambda x: x[1])  # Sort based on the second element of each tuple\n",
        "    print(sorted_data)  # Output: [(4, 1), (3, 2), (1, 5), (2, 8)]\n",
        "\n",
        "    # Using a lambda function with the `map` function\n",
        "    numbers = [1, 2, 3, 4, 5]\n",
        "    squared_numbers = list(map(lambda x: x * x, numbers))  # Square each number in the list\n",
        "    print(squared_numbers)  # Output: [1, 4, 9, 16, 25]"
      ],
      "metadata": {
        "id": "3bMDibcuyXfj"
      }
    },
    {
      "cell_type": "markdown",
      "source": [
        "9. Explain the purpose and usage of the `map()` function in Python.\n",
        "\n",
        "Purpose of map():\n",
        "\n",
        "- The map() function is a built-in function in Python that allows you to apply a function to each item in an iterable (such as a list, tuple, or string) and return a new iterator containing the results.\n",
        "\n",
        "- In simpler words, it helps you process each element of a collection using a given function without writing explicit loops.\n",
        "\n",
        "Usage of map():\n",
        "\n",
        "The syntax of the map() function is:\n",
        "\n",
        "map(function, iterable)\n",
        "\n",
        "function: The function to be applied to each item in the iterable.\n",
        "iterable: The iterable containing the items to be processed.\n",
        "\n"
      ],
      "metadata": {
        "id": "VAD-ravOyd2B"
      }
    },
    {
      "cell_type": "markdown",
      "source": [
        "10. What is the difference between `map()`, `reduce()`, and `filter()` functions in Python?\n",
        "\n",
        "1. map()\n",
        "\n",
        "- Purpose: map() applies a given function to each item in an iterable and returns an iterator that yields the results. It transforms each element individually.\n",
        "\n",
        "- Return Value: Returns a map object (which is an iterator). You typically need to convert it to another iterable like a list or tuple to see the results. The output iterable will have the same length as the input iterable(s).\n",
        "\n",
        "- Arguments:\n",
        "\n",
        "  - function: The function to apply to each item. It can be a regular function or a lambda function.\n",
        "  - iterable(s): One or more iterables whose items will be processed.\n",
        "\n",
        "Example:\n",
        "\n",
        "    numbers = [1, 2, 3, 4]\n",
        "    squared = map(lambda x: x**2, numbers)\n",
        "    print(list(squared))  # Output: [1, 4, 9, 16]\n",
        "\n",
        "    list1 = [1, 2, 3]\n",
        "    list2 = [4, 5, 6]\n",
        "    added = map(lambda x, y: x + y, list1, list2)\n",
        "    print(list(added))  # Output: [5, 7, 9]\n",
        "\n",
        "\n",
        "2. filter()\n",
        "\n",
        "- Purpose: filter() constructs an iterator from elements of an iterable for which a given function returns True. It selects elements based on a condition.\n",
        "\n",
        "- Return Value: Returns a filter object (which is an iterator). You usually convert it to another iterable to see the filtered elements. The output iterable will contain a subset (or all) of the elements from the input iterable.\n",
        "\n",
        "- Arguments:\n",
        "\n",
        "  - function: A function that tests each element of the iterable. It should return True if the element should be included in the result and False otherwise.\n",
        "\n",
        "\n",
        "    numbers = [1, 2, 3, 4, 5, 6]\n",
        "    evens = filter(lambda x: x % 2 == 0, numbers)\n",
        "    print(list(evens))  # Output: [2, 4, 6]\n",
        "\n",
        "    words = [\"apple\", \"\", \"banana\", \"cherry\", \"\"]\n",
        "    non_empty = filter(None, words)  # Filter out empty strings\n",
        "    print(list(non_empty))  # Output: ['apple', 'banana', 'cherry']\n",
        "\n",
        "\n",
        "3. reduce()\n",
        "\n",
        "- Purpose: reduce() applies a given function cumulatively to the items of an iterable, from left to right, so as to reduce the iterable 1  to a single value.\n",
        "\n",
        "- Return Value: Returns a single value.\n",
        "\n",
        "- Arguments:\n",
        "\n",
        "  - function: A function that takes two arguments (the accumulated result and the next element) and returns a single value.\n",
        "  - iterable: The iterable to be reduced.\n",
        "\n",
        "Example:\n",
        "\n",
        "\n",
        "    from functools import reduce\n",
        "\n",
        "    numbers = [1, 2, 3, 4]\n",
        "    product = reduce(lambda x, y: x * y, numbers)\n",
        "    print(product)  # Output: 24 (1*2*3*4)\n",
        "\n",
        "    sum_with_initial = reduce(lambda x, y: x + y, numbers, 10)\n",
        "    print(sum_with_initial)  # Output: 20 (10+1+2+3+4)"
      ],
      "metadata": {
        "id": "N3rApafxyf8n"
      }
    },
    {
      "cell_type": "markdown",
      "source": [
        "11. Using pen & Paper write the internal mechanism for sum operation using  reduce function on this given\n",
        "list:[47,11,42,13].Attach paper image for this answer in doc or colab notebook.\n",
        "\n",
        "    from functools import reduce\n",
        "\n",
        "    data_list = [47, 11, 42, 13]\n",
        "\n",
        "    # Using reduce with a lambda function for addition\n",
        "    sum_of_list = reduce(lambda x, y: x + y, data_list)\n",
        "\n",
        "    print(f\"The list is: {data_list}\")\n",
        "    print(f\"The sum of the list using reduce() is: {sum_of_list}\")"
      ],
      "metadata": {
        "id": "OyVb-5cNyh_P"
      }
    },
    {
      "cell_type": "markdown",
      "source": [],
      "metadata": {
        "id": "MBP3n8h6yZe0"
      }
    },
    {
      "cell_type": "markdown",
      "source": [
        "# Practical"
      ],
      "metadata": {
        "id": "YZ77OBg9_yDu"
      }
    },
    {
      "cell_type": "markdown",
      "source": [
        "## 1. Write a Python function that takes a list of numbers as input and returns the sum of all even numbers in the list."
      ],
      "metadata": {
        "id": "Jwmjyevt_1nI"
      }
    },
    {
      "cell_type": "code",
      "execution_count": 44,
      "metadata": {
        "colab": {
          "base_uri": "https://localhost:8080/"
        },
        "id": "xlWA9OvY_oAd",
        "outputId": "b63d967c-d943-4877-b158-84be8ec12d67"
      },
      "outputs": [
        {
          "output_type": "stream",
          "name": "stdout",
          "text": [
            "Enter multiple integers to get the sum of even numbers with commas in between: 1,4,6,Nikhil,7.8,2\n",
            "The sum of even numbers is: 12\n"
          ]
        }
      ],
      "source": [
        "def sum_even(list_num):\n",
        "  '''\n",
        "  Takes users input in the form of list of data and returns sum of all even numbers in the list.\n",
        "\n",
        "  Arg: Data int he form of a list (List)\n",
        "  Return: Sum of even numbers (Int)\n",
        "  '''\n",
        "  sum_even_numbers = 0\n",
        "  for item in list_num:\n",
        "    try:\n",
        "      number = int(item)\n",
        "      if number % 2 == 0:\n",
        "        sum_even_numbers += number\n",
        "    except ValueError:\n",
        "      continue  # Ignore non integer items\n",
        "  return sum_even_numbers\n",
        "\n",
        "\n",
        "l = input(\"Enter multiple integers to get the sum of even numbers with commas in between: \")\n",
        "l_final = l.split(\",\")\n",
        "result = sum_even(l_final)\n",
        "print(f\"The sum of even numbers is: {result}\")"
      ]
    },
    {
      "cell_type": "markdown",
      "source": [
        "## 2. Create a Python function that accepts a string and returns the reverse of that string."
      ],
      "metadata": {
        "id": "FsWy3G8lJUnm"
      }
    },
    {
      "cell_type": "code",
      "source": [
        "def reverse(string):\n",
        "  '''\n",
        "  Takes a string and returns reverse of that string\n",
        "  Arg: String (Str)\n",
        "  Return: Reverse of the string (Str)\n",
        "  '''\n",
        "  reverse_string = string[-1::-1]\n",
        "  return reverse_string\n",
        "\n",
        "string = input(\"Enter a string to get its reverse: \")\n",
        "result = reverse(string)\n",
        "print(f\"The reverse of the string is: {result}\")"
      ],
      "metadata": {
        "colab": {
          "base_uri": "https://localhost:8080/"
        },
        "id": "ee7b7wV1EaaD",
        "outputId": "d9a5eeac-7a79-4379-83ff-bfe9813c17c9"
      },
      "execution_count": 49,
      "outputs": [
        {
          "output_type": "stream",
          "name": "stdout",
          "text": [
            "Enter a string to get its reverse: 123Nikhil.$#%#43.2\n",
            "The reverse of the string is: 2.34#%#$.lihkiN321\n"
          ]
        }
      ]
    },
    {
      "cell_type": "markdown",
      "source": [
        "## 3. Implement a Python function that takes a list of integers and returns a new list containing the squares of each number."
      ],
      "metadata": {
        "id": "rLoMimquKEbq"
      }
    },
    {
      "cell_type": "code",
      "source": [
        "def square_list(numbers):\n",
        "  \"\"\"\n",
        "  Takes a list of integers and returns a new list containing the squares of each number.\n",
        "\n",
        "  Args: numbers: A list of integers.\n",
        "  Returns: A new list containing the square of each number in the input list.\n",
        "  \"\"\"\n",
        "  squared_numbers = []\n",
        "  for number in numbers:\n",
        "    squared_numbers.append(number ** 2)\n",
        "  return squared_numbers\n",
        "\n",
        "\n",
        "my_numbers = [1, 2, 3, 4, 5]\n",
        "squared_list = square_list(my_numbers)\n",
        "print(f\"Original list: {my_numbers}\")\n",
        "print(f\"Squared list: {squared_list}\")\n",
        "\n",
        "another_list = [-2, 0, 3, -5]\n",
        "squared_another = square_list(another_list)\n",
        "print(f\"Original list: {another_list}\")\n",
        "print(f\"Squared list: {squared_another}\")"
      ],
      "metadata": {
        "colab": {
          "base_uri": "https://localhost:8080/"
        },
        "id": "B3ukXp4jJxOX",
        "outputId": "a9b8d1e7-0aa5-48b8-808f-9b6ad016b8bc"
      },
      "execution_count": 55,
      "outputs": [
        {
          "output_type": "stream",
          "name": "stdout",
          "text": [
            "Original list: [1, 2, 3, 4, 5]\n",
            "Squared list: [1, 4, 9, 16, 25]\n",
            "Original list: [-2, 0, 3, -5]\n",
            "Squared list: [4, 0, 9, 25]\n"
          ]
        }
      ]
    },
    {
      "cell_type": "markdown",
      "source": [
        "## 4. Write a Python function that checks if a given number is prime or not from 1 to 200."
      ],
      "metadata": {
        "id": "slqWop2EK-kr"
      }
    },
    {
      "cell_type": "code",
      "source": [
        "def is_prime(number):\n",
        "  \"\"\"\n",
        "  Checks if a given number is prime or not, for numbers between 1 and 200 (inclusive).\n",
        "\n",
        "  Args: number: An integer to check for primality.\n",
        "\n",
        "  Returns: True if the number is prime and within the range [1, 200], False otherwise.\n",
        "  \"\"\"\n",
        "  if number <= 1:\n",
        "    return \"not a Prime\"  # 1 and numbers less than 1 are not prime\n",
        "  if number <= 3:\n",
        "    return True   # 2 and 3 are prime\n",
        "  if number % 2 == 0 or number % 3 == 0:\n",
        "    return \"not a Prime\" # Numbers divisible by 2 or 3 are not prime\n",
        "\n",
        "  i = 5\n",
        "  while i * i <= number:\n",
        "    if number % i == 0 or number % (i + 2) == 0:\n",
        "      return \"not a Prime\"\n",
        "    i += 6\n",
        "  return \"a Prime\"\n",
        "\n",
        "\n",
        "num = int(input(\"Enter a number between 1 and 200 to know if its a prime: \"))\n",
        "print(f'Provided number is {is_prime(num)}')"
      ],
      "metadata": {
        "colab": {
          "base_uri": "https://localhost:8080/"
        },
        "id": "r-QXUPAmKs6K",
        "outputId": "e37327c5-0319-4129-94ad-94c789d6344d"
      },
      "execution_count": 63,
      "outputs": [
        {
          "output_type": "stream",
          "name": "stdout",
          "text": [
            "Enter a number between 1 and 200 to know if its a prime: 400\n",
            "Provided number is Not a Prime\n"
          ]
        }
      ]
    },
    {
      "cell_type": "markdown",
      "source": [
        "## 5. Create an iterator class in Python that generates the Fibonacci sequence up to a specified number of terms."
      ],
      "metadata": {
        "id": "vyd4AaCmM1UC"
      }
    },
    {
      "cell_type": "code",
      "source": [
        "def fib_gen(n):\n",
        "    \"\"\"\n",
        "    Generates Fibonacci sequence up to a specified number of terms using a generator function.\n",
        "\n",
        "    Args: n: The maximum number of Fibonacci numbers to generate.\n",
        "\n",
        "    Yields: The next Fibonacci number in the sequence.\n",
        "    \"\"\"\n",
        "    if type(n) != int or n <= 0:\n",
        "        raise ValueError(\"Number of terms must be a positive integer.\")\n",
        "    a, b = 0, 1\n",
        "    count = 0\n",
        "    while count < n:\n",
        "        yield a\n",
        "        a, b = b, a + b\n",
        "        count += 1\n",
        "\n",
        "\n",
        "fib_10 = fib_gen(10)\n",
        "\n",
        "print(\"Fibonacci sequence up to 10 terms:\")\n",
        "print(next(fib_10))\n",
        "print(next(fib_10))\n",
        "print(next(fib_10))\n",
        "print(next(fib_10))\n",
        "print(next(fib_10))\n",
        "print(next(fib_10))\n",
        "print(next(fib_10))\n",
        "print(next(fib_10))\n",
        "print(next(fib_10))\n",
        "print(next(fib_10))"
      ],
      "metadata": {
        "colab": {
          "base_uri": "https://localhost:8080/"
        },
        "id": "ACqeFO3TLRKF",
        "outputId": "821e0d58-5565-492a-f9de-b49fcdbe5443"
      },
      "execution_count": 72,
      "outputs": [
        {
          "output_type": "stream",
          "name": "stdout",
          "text": [
            "Fibonacci sequence up to 10 terms:\n",
            "0\n",
            "1\n",
            "1\n",
            "2\n",
            "3\n",
            "5\n",
            "8\n",
            "13\n",
            "21\n",
            "34\n"
          ]
        }
      ]
    },
    {
      "cell_type": "markdown",
      "source": [
        "## 6. Write a generator function in Python that yields the powers of 2 up to a given exponent."
      ],
      "metadata": {
        "id": "1hsKFKs7ZpmZ"
      }
    },
    {
      "cell_type": "code",
      "source": [
        "def powers_of_2(exponent):\n",
        "    \"\"\"\n",
        "    Generates powers of 2 up to a given exponent.\n",
        "\n",
        "    Args: exponent: The maximum exponent for the powers of 2.\n",
        "\n",
        "    Yields: The next power of 2 in the sequence.\n",
        "    \"\"\"\n",
        "    if not isinstance(exponent, int) or exponent < 0:\n",
        "        raise ValueError(\"Exponent must be a non-negative integer.\")\n",
        "\n",
        "    for i in range(exponent + 1):\n",
        "        yield 2**i\n",
        "\n",
        "\n",
        "powers = powers_of_2(5)\n",
        "\n",
        "print(\"Powers of 2 up to the 5th exponent:\")\n",
        "print(next(powers))\n",
        "print(next(powers))\n",
        "print(next(powers))\n",
        "print(next(powers))\n",
        "print(next(powers))\n",
        "print(next(powers))\n"
      ],
      "metadata": {
        "colab": {
          "base_uri": "https://localhost:8080/"
        },
        "id": "fxMLdBQOYrLf",
        "outputId": "edd83ce0-57ae-468b-9047-da3586a3a311"
      },
      "execution_count": 76,
      "outputs": [
        {
          "output_type": "stream",
          "name": "stdout",
          "text": [
            "Powers of 2 up to the 5th exponent:\n",
            "1\n",
            "2\n",
            "4\n",
            "8\n",
            "16\n",
            "32\n"
          ]
        }
      ]
    },
    {
      "cell_type": "markdown",
      "source": [
        "## 7. Implement a generator function that reads a file line by line and yields each line as a string."
      ],
      "metadata": {
        "id": "8UCGYXA3aYdO"
      }
    },
    {
      "cell_type": "code",
      "source": [
        "# prompt: Implement a generator function that reads a file line by line and yields each line as a string.\n",
        "\n",
        "def read_file_line_by_line(filepath):\n",
        "    \"\"\"\n",
        "    Reads a file line by line and yields each line as a string.\n",
        "\n",
        "    Args:\n",
        "        filepath: The path to the file.\n",
        "\n",
        "    Yields:\n",
        "        Each line in the file as a string.\n",
        "    \"\"\"\n",
        "    with open(filepath, 'r') as file:\n",
        "        for line in file:\n",
        "            yield line.strip()  # Remove leading/trailing whitespace\n",
        "\n",
        "\n",
        "# Example usage:\n",
        "# Assuming a file named 'my_file.txt' exists in the same directory.\n",
        "# Replace 'my_file.txt' with the actual file name/path\n",
        "file_generator = read_file_line_by_line('testing_doc.txt')\n",
        "\n",
        "for line in file_generator:\n",
        "    if line is not None:\n",
        "      print(line)\n"
      ],
      "metadata": {
        "colab": {
          "base_uri": "https://localhost:8080/"
        },
        "id": "zJ4SNuY6Z-9V",
        "outputId": "7f6640e4-5adb-4ccf-81f9-b33d34142701"
      },
      "execution_count": 90,
      "outputs": [
        {
          "output_type": "stream",
          "name": "stdout",
          "text": [
            "﻿Lufthansa flies back to profit\n",
            "\n",
            "\n",
            "German airline Lufthansa has returned to profit in 2004 after posting huge losses in 2003.\n",
            "\n",
            "\n",
            "In a preliminary report, the airline announced net profits of 400m euros ($527.61m; £274.73m), compared with a loss of 984m euros in 2003. Operating profits were at 380m euros, ten times more than in 2003. Lufthansa was hit in 2003 by tough competition and a dip in demand following the Iraq war and the killer SARS virus. It was also hit by troubles at its US catering business. Last year, Lufthansa showed signs of recovery even as some European and US airlines were teetering on the brink of bankruptcy. The board of Lufthansa has recommended paying a 2004 dividend of 0.30 euros per share. In 2003, shareholders did not get a dividend. The company said that it will give all the details of its 2004 results on 23 March.\n"
          ]
        }
      ]
    },
    {
      "cell_type": "markdown",
      "source": [
        "## 8. Use a lambda function in Python to sort a list of tuples based on the second element of each tuple."
      ],
      "metadata": {
        "id": "ayrvwvuAdWdr"
      }
    },
    {
      "cell_type": "code",
      "source": [
        "data = [(1, 5, 14), (3, 2), (2, 22, 8), (4, 1)]\n",
        "sorted_data = sorted(data, key=lambda x: x[1])\n",
        "sorted_data\n"
      ],
      "metadata": {
        "colab": {
          "base_uri": "https://localhost:8080/"
        },
        "id": "8vyM58Uxc4-J",
        "outputId": "e43972c1-2a59-46e3-bbe3-144f166b1bae"
      },
      "execution_count": 96,
      "outputs": [
        {
          "output_type": "execute_result",
          "data": {
            "text/plain": [
              "[(4, 1), (3, 2), (1, 5, 14), (2, 22, 8)]"
            ]
          },
          "metadata": {},
          "execution_count": 96
        }
      ]
    },
    {
      "cell_type": "markdown",
      "source": [
        "## 9. Write a Python program that uses `map()` to convert a list of temperatures from Celsius to Fahrenheit."
      ],
      "metadata": {
        "id": "aCndCbQVdeMe"
      }
    },
    {
      "cell_type": "code",
      "source": [
        "def celsius_to_fahrenheit(celsius):\n",
        "  \"\"\"Converts Celsius to Fahrenheit.\"\"\"\n",
        "  return (celsius * 9/5) + 32\n",
        "\n",
        "celsius_temps = [0, 10, 22.5, 30, -100]\n",
        "fahrenheit_temps = list(map(celsius_to_fahrenheit, celsius_temps))\n",
        "fahrenheit_temps"
      ],
      "metadata": {
        "colab": {
          "base_uri": "https://localhost:8080/"
        },
        "id": "dAxlXmqKdfTD",
        "outputId": "f870af57-401b-4eb0-83f9-cafd4e3e584f"
      },
      "execution_count": 98,
      "outputs": [
        {
          "output_type": "execute_result",
          "data": {
            "text/plain": [
              "[32.0, 50.0, 72.5, 86.0, -148.0]"
            ]
          },
          "metadata": {},
          "execution_count": 98
        }
      ]
    },
    {
      "cell_type": "markdown",
      "source": [
        "## 10. Create a Python program that uses `filter()` to remove all the vowels from a given string."
      ],
      "metadata": {
        "id": "ZfDekzprefOI"
      }
    },
    {
      "cell_type": "code",
      "source": [
        "string = \"Hello, World!\"  # Example string\n",
        "vowels = \"aeiouAEIOU\"\n",
        "\n",
        "# Using filter and lambda function\n",
        "filtered_string = \"\".join(filter(lambda char: char not in vowels, string))\n",
        "\n",
        "print(filtered_string) # Output: Hll, Wrld!\n",
        "\n"
      ],
      "metadata": {
        "colab": {
          "base_uri": "https://localhost:8080/"
        },
        "id": "iEGGiAdweV9U",
        "outputId": "2b941483-1023-4975-c3fa-babb06e8872f"
      },
      "execution_count": 107,
      "outputs": [
        {
          "output_type": "stream",
          "name": "stdout",
          "text": [
            "Hll, Wrld!\n"
          ]
        }
      ]
    },
    {
      "cell_type": "markdown",
      "source": [
        "## 11. Imagine an accounting routine used in a book shop. It works on a list with sublists.\n",
        "\n",
        "##Write a Python program, which returns a list with 2-tuples. Each tuple consists of the order number and the product of the price per item and the quantity. The product should be increased by 10,- € if the value of the order is smaller than 100,00 €. Write a Python program using lambda and map."
      ],
      "metadata": {
        "id": "C6QMQQCMgUmX"
      }
    },
    {
      "cell_type": "code",
      "source": [
        "book_shop_orders = [\n",
        "    [\"Order Number\", \"Book Title and Author\", \"Quantity\", \"Price per item\"],\n",
        "    [34587, 'Learning Python, Mark Lutz', 4, 40.95],\n",
        "    [98762, 'Programming Python, Mark Lutz', 5, 56.8],\n",
        "    [77226, 'Head First Python, Paul Barry', 3, 32.95],\n",
        "    [88112, 'Einfurhung in Python, Bernd Klein', 3, 24.99]\n",
        "]\n",
        "\n",
        "# Separate the header from the data\n",
        "header = book_shop_orders[0]\n",
        "order_data = book_shop_orders[1:]\n",
        "\n",
        "def calculate_order_value(order):\n",
        "    \"\"\"Calculates the total value of an order, adding a surcharge if needed.\"\"\"\n",
        "    order_number = order[0]\n",
        "    quantity = order[2]\n",
        "    price_per_item = order[3]\n",
        "    total_value = quantity * price_per_item\n",
        "    if total_value < 100:\n",
        "        total_value += 10\n",
        "    return order_number, total_value\n",
        "\n",
        "# Use map and a lambda function to process each order\n",
        "processed_orders = list(map(lambda order: calculate_order_value(order), order_data))\n",
        "\n",
        "print(processed_orders)"
      ],
      "metadata": {
        "colab": {
          "base_uri": "https://localhost:8080/"
        },
        "id": "fmR8RLkwgEfB",
        "outputId": "c2d55e29-4e1c-43f4-da45-d7a320c51be8"
      },
      "execution_count": 120,
      "outputs": [
        {
          "output_type": "stream",
          "name": "stdout",
          "text": [
            "[(34587, 163.8), (98762, 284.0), (77226, 108.85000000000001), (88112, 84.97)]\n"
          ]
        }
      ]
    },
    {
      "cell_type": "code",
      "source": [],
      "metadata": {
        "id": "PjsgyqHphJiw"
      },
      "execution_count": null,
      "outputs": []
    }
  ]
}